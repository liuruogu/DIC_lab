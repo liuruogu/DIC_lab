{
 "cells": [
  {
   "cell_type": "code",
   "execution_count": 1,
   "metadata": {},
   "outputs": [
    {
     "ename": "ModuleNotFoundError",
     "evalue": "No module named 'cvxopt'",
     "output_type": "error",
     "traceback": [
      "\u001b[0;31m---------------------------------------------------------------------------\u001b[0m",
      "\u001b[0;31mModuleNotFoundError\u001b[0m                       Traceback (most recent call last)",
      "\u001b[0;32m<ipython-input-1-c64c7a16c959>\u001b[0m in \u001b[0;36m<module>\u001b[0;34m()\u001b[0m\n\u001b[1;32m      4\u001b[0m \u001b[0;32mimport\u001b[0m \u001b[0mrandom\u001b[0m\u001b[0;34m\u001b[0m\u001b[0m\n\u001b[1;32m      5\u001b[0m \u001b[0;32mimport\u001b[0m \u001b[0mmath\u001b[0m\u001b[0;34m\u001b[0m\u001b[0m\n\u001b[0;32m----> 6\u001b[0;31m \u001b[0;32mfrom\u001b[0m \u001b[0mcvxopt\u001b[0m\u001b[0;34m.\u001b[0m\u001b[0msolvers\u001b[0m \u001b[0;32mimport\u001b[0m \u001b[0mqp\u001b[0m\u001b[0;34m\u001b[0m\u001b[0m\n\u001b[0m\u001b[1;32m      7\u001b[0m \u001b[0;32mfrom\u001b[0m \u001b[0mcvxopt\u001b[0m\u001b[0;34m.\u001b[0m\u001b[0mbase\u001b[0m \u001b[0;32mimport\u001b[0m \u001b[0mmatrix\u001b[0m\u001b[0;34m\u001b[0m\u001b[0m\n\u001b[1;32m      8\u001b[0m \u001b[0;32mfrom\u001b[0m \u001b[0mcvxopt\u001b[0m \u001b[0;32mimport\u001b[0m \u001b[0mmatrix\u001b[0m\u001b[0;34m,\u001b[0m \u001b[0msolvers\u001b[0m\u001b[0;34m\u001b[0m\u001b[0m\n",
      "\u001b[0;31mModuleNotFoundError\u001b[0m: No module named 'cvxopt'"
     ]
    }
   ],
   "source": [
    "import numpy as np\n",
    "import pandas as pa\n",
    "import pylab\n",
    "import random\n",
    "import math\n",
    "from cvxopt.solvers import qp\n",
    "from cvxopt.base import matrix\n",
    "from cvxopt import matrix, solvers\n",
    "\n",
    "# Generate the random dataset\n",
    "def random_data():\n",
    "\n",
    "# It will create 10 data points for each class\n",
    "#     np.random.seed(100)\n",
    "    P = np.zeros((10,10))\n",
    "    classA = [(random.normalvariate( 1.5, 1),\n",
    "               random.normalvariate(0.5, 1),\n",
    "               1.0)\n",
    "            for i in range(5)] + \\\n",
    "            [(random.normalvariate(1.5, 1),\n",
    "              random.normalvariate(0.5, 1),\n",
    "            1.0)\n",
    "            for i in range(5)]\n",
    "\n",
    "    classB = [(random.normalvariate(0.0, 0.5),\n",
    "               random. normalvariate( 0.5, 0.5) ,\n",
    "             1.0)\n",
    "            for i in range(10)]\n",
    "\n",
    "    data = classA + classB\n",
    "    random. shuffle (data)\n",
    "\n",
    "    #Plot two class using blue and red dots\n",
    "    pylab.hold(True)\n",
    "    pylab.plot([p[0] for p in classA],[p[1] for p in classA],'bo')\n",
    "    pylab.plot([p[0] for p in classB],[p[1] for p in classB],'ro')\n",
    "    # pylab .show()\n",
    "\n",
    "    for i in range(10):\n",
    "        # Build the P matrix\n",
    "        # print(classA[i][0],classA[i][1])\n",
    "        for j in range(10):\n",
    "            # Linear kernel, get the scalar product of each points\n",
    "            # Build the P matrix\n",
    "            P[i][j] = linear_kernal(classA[i],classB[j])\n",
    "        # print(p)\n",
    "\n",
    "    # Create the vector q and h, and the matrix G\n",
    "    h = np.zeros(10)\n",
    "    q = np.negative(np.ones(10))\n",
    "    G = np.zeros((10,10))\n",
    "    for x in range(10):\n",
    "        for y in range(10):\n",
    "            if x == y:\n",
    "                G[x][y] = -1\n",
    "\n",
    "    # print(P,q,G,h)\n",
    "    # r = qp(matrix(P), matrix(q), matrix(G), matrix(h))\n",
    "\n",
    "    r = qp(matrix(P), matrix(q), matrix(G), matrix(h))\n",
    "    # r = qp\n",
    "    # alpha = list(r['x'])\n",
    "\n",
    "    print(r)\n",
    "    # print(alpha)\n",
    "\n",
    "# Linear kernal function\n",
    "def linear_kernal(x,y):\n",
    "\n",
    "    # Cal the scalar product of each points\n",
    "    return np.dot(x,y)\n",
    "\n",
    "def main():\n",
    "\n",
    "    random_data()\n",
    "if __name__ == \"__main__\":\n",
    "    main()"
   ]
  },
  {
   "cell_type": "code",
   "execution_count": null,
   "metadata": {
    "collapsed": true
   },
   "outputs": [],
   "source": []
  }
 ],
 "metadata": {
  "kernelspec": {
   "display_name": "Python 3",
   "language": "python",
   "name": "python3"
  },
  "language_info": {
   "codemirror_mode": {
    "name": "ipython",
    "version": 3
   },
   "file_extension": ".py",
   "mimetype": "text/x-python",
   "name": "python",
   "nbconvert_exporter": "python",
   "pygments_lexer": "ipython3",
   "version": "3.6.2"
  }
 },
 "nbformat": 4,
 "nbformat_minor": 2
}
